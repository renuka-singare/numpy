{
  "nbformat": 4,
  "nbformat_minor": 0,
  "metadata": {
    "colab": {
      "name": "NUMPY 2",
      "provenance": [],
      "authorship_tag": "ABX9TyMN9b8iuAaMtbsC0HZATS4g",
      "include_colab_link": true
    },
    "kernelspec": {
      "name": "python3",
      "display_name": "Python 3"
    },
    "language_info": {
      "name": "python"
    }
  },
  "cells": [
    {
      "cell_type": "markdown",
      "metadata": {
        "id": "view-in-github",
        "colab_type": "text"
      },
      "source": [
        "<a href=\"https://colab.research.google.com/github/renuka-singare/numpy/blob/main/NUMPY_2.ipynb\" target=\"_parent\"><img src=\"https://colab.research.google.com/assets/colab-badge.svg\" alt=\"Open In Colab\"/></a>"
      ]
    },
    {
      "cell_type": "markdown",
      "source": [
        "**Numpy Shape**"
      ],
      "metadata": {
        "id": "5Gs4x_of1tB2"
      }
    },
    {
      "cell_type": "code",
      "execution_count": null,
      "metadata": {
        "colab": {
          "base_uri": "https://localhost:8080/"
        },
        "id": "DjWOJWNf1UIi",
        "outputId": "a006129c-7229-4742-908a-c0047a26bc02"
      },
      "outputs": [
        {
          "output_type": "stream",
          "name": "stdout",
          "text": [
            "(2, 4)\n"
          ]
        }
      ],
      "source": [
        "import numpy as np\n",
        "abc = np.array([[1, 2, 3, 4], [5, 6, 7, 8]])\n",
        "print(abc.shape)"
      ]
    },
    {
      "cell_type": "code",
      "source": [
        "import numpy as np\n",
        "abc = np.array([1, 2, 3, 4], ndmin=5)\n",
        "print(abc)\n",
        "print('shape of array :', abc.shape)"
      ],
      "metadata": {
        "colab": {
          "base_uri": "https://localhost:8080/"
        },
        "id": "Hq1N7x_W2Il1",
        "outputId": "30dba9ba-598e-4955-80e4-2fd0a412e7ff"
      },
      "execution_count": null,
      "outputs": [
        {
          "output_type": "stream",
          "name": "stdout",
          "text": [
            "[[[[[1 2 3 4]]]]]\n",
            "shape of array : (1, 1, 1, 1, 4)\n"
          ]
        }
      ]
    },
    {
      "cell_type": "markdown",
      "source": [
        "**NumPy Array Reshaping**"
      ],
      "metadata": {
        "id": "kp4VIIij3FP1"
      }
    },
    {
      "cell_type": "code",
      "source": [
        "import numpy as np\n",
        "abc = np.array([1, 2, 3, 4, 5, 6, 7, 8, 9, 10, 11, 12])\n",
        "newabc = abc.reshape(4, 3)\n",
        "print(newabc)"
      ],
      "metadata": {
        "colab": {
          "base_uri": "https://localhost:8080/"
        },
        "id": "pPp8k1BY24dH",
        "outputId": "f64ccc78-69aa-4b94-d415-dec6cad08480"
      },
      "execution_count": null,
      "outputs": [
        {
          "output_type": "stream",
          "name": "stdout",
          "text": [
            "[[ 1  2  3]\n",
            " [ 4  5  6]\n",
            " [ 7  8  9]\n",
            " [10 11 12]]\n"
          ]
        }
      ]
    },
    {
      "cell_type": "markdown",
      "source": [
        "**Reshape From 1-D to 3-D**"
      ],
      "metadata": {
        "id": "Qbmu2PV63vX7"
      }
    },
    {
      "cell_type": "code",
      "source": [
        "import numpy as np\n",
        "abc = np.array([1, 2, 3, 4, 5, 6, 7, 8, 9, 10, 11, 12])\n",
        "newabc = abc.reshape(2, 3, 2)\n",
        "print(newabc)"
      ],
      "metadata": {
        "colab": {
          "base_uri": "https://localhost:8080/"
        },
        "id": "gYePAG4x3yhh",
        "outputId": "a787bfa2-3c49-4db0-8e02-40d8644919d7"
      },
      "execution_count": null,
      "outputs": [
        {
          "output_type": "stream",
          "name": "stdout",
          "text": [
            "[[[ 1  2]\n",
            "  [ 3  4]\n",
            "  [ 5  6]]\n",
            "\n",
            " [[ 7  8]\n",
            "  [ 9 10]\n",
            "  [11 12]]]\n"
          ]
        }
      ]
    },
    {
      "cell_type": "code",
      "source": [
        "import numpy as np\n",
        "abc = np.array([1, 2, 3, 4, 5, 6, 7, 8])\n",
        "print(abc.reshape(2, 4).base)"
      ],
      "metadata": {
        "colab": {
          "base_uri": "https://localhost:8080/"
        },
        "id": "EvctREG74LAT",
        "outputId": "0f6976fa-6105-4bd0-b6a7-c60a8187fb06"
      },
      "execution_count": null,
      "outputs": [
        {
          "output_type": "stream",
          "name": "stdout",
          "text": [
            "[1 2 3 4 5 6 7 8]\n"
          ]
        }
      ]
    },
    {
      "cell_type": "markdown",
      "source": [
        "**Unknown Dimension**"
      ],
      "metadata": {
        "id": "21za3viM4enk"
      }
    },
    {
      "cell_type": "code",
      "source": [
        "import numpy as np\n",
        "abc = np.array([1, 2, 3, 4, 5, 6, 7, 8])\n",
        "newabc = abc.reshape(2, 2, -1)\n",
        "print(newabc)"
      ],
      "metadata": {
        "colab": {
          "base_uri": "https://localhost:8080/"
        },
        "id": "IaulntYg4S1l",
        "outputId": "e0e7ef40-7ad7-4453-b788-c720caea0c2d"
      },
      "execution_count": null,
      "outputs": [
        {
          "output_type": "stream",
          "name": "stdout",
          "text": [
            "[[[1 2]\n",
            "  [3 4]]\n",
            "\n",
            " [[5 6]\n",
            "  [7 8]]]\n"
          ]
        }
      ]
    },
    {
      "cell_type": "markdown",
      "source": [
        "**Flattening the arrays**"
      ],
      "metadata": {
        "id": "75hn4iJi4680"
      }
    },
    {
      "cell_type": "code",
      "source": [
        "import numpy as np\n",
        "abc = np.array([[1, 2, 3], [4, 5, 6]])\n",
        "newabc = abc.reshape(-1)\n",
        "print(newabc)"
      ],
      "metadata": {
        "colab": {
          "base_uri": "https://localhost:8080/"
        },
        "id": "5V-iefDZ41mW",
        "outputId": "a8ec6081-b72c-407b-aa87-b321b900692c"
      },
      "execution_count": null,
      "outputs": [
        {
          "output_type": "stream",
          "name": "stdout",
          "text": [
            "[1 2 3 4 5 6]\n"
          ]
        }
      ]
    },
    {
      "cell_type": "markdown",
      "source": [
        "**NumPy Array Iterating**\n"
      ],
      "metadata": {
        "id": "q6ArW2d85zXB"
      }
    },
    {
      "cell_type": "code",
      "source": [
        "import numpy as np\n",
        "abc = np.array([1, 2, 3])\n",
        "for x in abc:\n",
        "  print(x)"
      ],
      "metadata": {
        "colab": {
          "base_uri": "https://localhost:8080/"
        },
        "id": "qAxt600J5XC6",
        "outputId": "2c51ae2a-165a-41fa-daf5-06b3e97b319b"
      },
      "execution_count": null,
      "outputs": [
        {
          "output_type": "stream",
          "name": "stdout",
          "text": [
            "1\n",
            "2\n",
            "3\n"
          ]
        }
      ]
    },
    {
      "cell_type": "markdown",
      "source": [
        "**Iterating 2-D Arrays**\n",
        "####If we iterate on a n-D array it will go through n-1th dimension one by one."
      ],
      "metadata": {
        "id": "8C6IYgRO6OxK"
      }
    },
    {
      "cell_type": "code",
      "source": [
        "import numpy as np\n",
        "abc = np.array([[1, 2, 3], [4, 5, 6]])\n",
        "for x in abc:\n",
        "  print(x)"
      ],
      "metadata": {
        "colab": {
          "base_uri": "https://localhost:8080/"
        },
        "id": "ET2ETG_459Nf",
        "outputId": "5b339b56-2932-401b-e5bf-f8cb00e8058e"
      },
      "execution_count": null,
      "outputs": [
        {
          "output_type": "stream",
          "name": "stdout",
          "text": [
            "[1 2 3]\n",
            "[4 5 6]\n"
          ]
        }
      ]
    },
    {
      "cell_type": "markdown",
      "source": [
        "####Iterate on each scalar element of the 2-D array:"
      ],
      "metadata": {
        "id": "fO0bSG4-co99"
      }
    },
    {
      "cell_type": "code",
      "source": [
        "import numpy as np\n",
        "abc= np.array([[1, 2, 3], [4, 5, 6]])\n",
        "for x in abc:\n",
        "  for y in x:\n",
        "    print(y)"
      ],
      "metadata": {
        "colab": {
          "base_uri": "https://localhost:8080/"
        },
        "id": "MnWHF61762YC",
        "outputId": "6ec08ae2-a0a6-439b-c3cf-a015fc657ee0"
      },
      "execution_count": null,
      "outputs": [
        {
          "output_type": "stream",
          "name": "stdout",
          "text": [
            "1\n",
            "2\n",
            "3\n",
            "4\n",
            "5\n",
            "6\n"
          ]
        }
      ]
    },
    {
      "cell_type": "markdown",
      "source": [
        "**Iterating 3-D Arrays**"
      ],
      "metadata": {
        "id": "O1uqNPWa7Url"
      }
    },
    {
      "cell_type": "code",
      "source": [
        "import numpy as np\n",
        "abc = np.array([[[1, 2, 3], [4, 5, 6]], [[7, 8, 9], [10, 11, 12]]])\n",
        "for x in abc:\n",
        "  print(x)\n"
      ],
      "metadata": {
        "colab": {
          "base_uri": "https://localhost:8080/"
        },
        "id": "_HiPPEnJ7QQq",
        "outputId": "50874eb1-4732-4774-9297-929db8f1b4e3"
      },
      "execution_count": null,
      "outputs": [
        {
          "output_type": "stream",
          "name": "stdout",
          "text": [
            "[[1 2 3]\n",
            " [4 5 6]]\n",
            "[[ 7  8  9]\n",
            " [10 11 12]]\n"
          ]
        }
      ]
    },
    {
      "cell_type": "code",
      "source": [
        "import numpy as np\n",
        "abc = np.array([[[1, 2, 3], [4, 5, 6]], [[7, 8, 9], [10, 11, 12]]])\n",
        "for x in abc:\n",
        "  for y in x:\n",
        "    for z in y:\n",
        "      print(z)"
      ],
      "metadata": {
        "colab": {
          "base_uri": "https://localhost:8080/"
        },
        "id": "7W6hSZBD7k7u",
        "outputId": "6fe39a8e-0f6e-479e-8c7e-551ec7ab4997"
      },
      "execution_count": null,
      "outputs": [
        {
          "output_type": "stream",
          "name": "stdout",
          "text": [
            "1\n",
            "2\n",
            "3\n",
            "4\n",
            "5\n",
            "6\n",
            "7\n",
            "8\n",
            "9\n",
            "10\n",
            "11\n",
            "12\n"
          ]
        }
      ]
    },
    {
      "cell_type": "markdown",
      "source": [
        "**Iterating Arrays Using nditer()**"
      ],
      "metadata": {
        "id": "tvdkmQLc7sNk"
      }
    },
    {
      "cell_type": "code",
      "source": [
        "import numpy as np\n",
        "abc = np.array([[[1, 2], [3, 4]], [[5, 6], [7, 8]]])\n",
        "for x in np.nditer(abc):\n",
        "  print(x)"
      ],
      "metadata": {
        "id": "VXXUeeUe8qov",
        "colab": {
          "base_uri": "https://localhost:8080/"
        },
        "outputId": "7938bfd9-9a23-428b-f002-c5a0559c46c8"
      },
      "execution_count": null,
      "outputs": [
        {
          "output_type": "stream",
          "name": "stdout",
          "text": [
            "1\n",
            "2\n",
            "3\n",
            "4\n",
            "5\n",
            "6\n",
            "7\n",
            "8\n"
          ]
        }
      ]
    },
    {
      "cell_type": "markdown",
      "source": [
        "**Iterating Array With Different Data Types**"
      ],
      "metadata": {
        "id": "DpYsSJie-o7r"
      }
    },
    {
      "cell_type": "code",
      "source": [
        "import numpy as np\n",
        "abc= np.array([1, 2, 3])\n",
        "for x in np.nditer(abc, flags=['buffered'], op_dtypes=['S']):\n",
        "  print(x)"
      ],
      "metadata": {
        "id": "EHy19u1m-jgD",
        "colab": {
          "base_uri": "https://localhost:8080/"
        },
        "outputId": "67b5ecdc-1e0f-4991-dff2-4b168448c066"
      },
      "execution_count": null,
      "outputs": [
        {
          "output_type": "stream",
          "name": "stdout",
          "text": [
            "b'1'\n",
            "b'2'\n",
            "b'3'\n"
          ]
        }
      ]
    },
    {
      "cell_type": "markdown",
      "source": [
        "**Iterating With Different Step Size**"
      ],
      "metadata": {
        "id": "5YcpPq-5_Iuh"
      }
    },
    {
      "cell_type": "code",
      "source": [
        "import numpy as np\n",
        "abc = np.array([[1, 2, 3, 4], [5, 6, 7, 8]])\n",
        "for x in np.nditer(abc[:, ::2]):\n",
        "  print(x)"
      ],
      "metadata": {
        "id": "7jCxxXLk_NYa",
        "colab": {
          "base_uri": "https://localhost:8080/"
        },
        "outputId": "e8845e3a-665c-41a9-c6e3-7ad7342dc076"
      },
      "execution_count": null,
      "outputs": [
        {
          "output_type": "stream",
          "name": "stdout",
          "text": [
            "1\n",
            "3\n",
            "5\n",
            "7\n"
          ]
        }
      ]
    },
    {
      "cell_type": "markdown",
      "source": [
        "**Enumerated Iteration Using ndenumerate()**\n",
        "####Enumerate on following 1D arrays elements:"
      ],
      "metadata": {
        "id": "ORaZJlfb__un"
      }
    },
    {
      "cell_type": "code",
      "source": [
        "import numpy as np\n",
        "abc = np.array([1, 2, 3])\n",
        "for idx, x in np.ndenumerate(abc):\n",
        "  print(idx, x)"
      ],
      "metadata": {
        "colab": {
          "base_uri": "https://localhost:8080/"
        },
        "id": "X8KZB8as_xHD",
        "outputId": "aa6b3da7-5bdd-4ad7-b285-f7fc6ce703a9"
      },
      "execution_count": null,
      "outputs": [
        {
          "output_type": "stream",
          "name": "stdout",
          "text": [
            "(0,) 1\n",
            "(1,) 2\n",
            "(2,) 3\n"
          ]
        }
      ]
    },
    {
      "cell_type": "markdown",
      "source": [
        "####Enumerate on following 2D array's elements:"
      ],
      "metadata": {
        "id": "17g6RqnfdhMh"
      }
    },
    {
      "cell_type": "code",
      "source": [
        "import numpy as np\n",
        "abc = np.array([[1, 2, 3, 4], [5, 6, 7, 8]])\n",
        "for idx, x in np.ndenumerate(abc):\n",
        "  print(idx, x)"
      ],
      "metadata": {
        "colab": {
          "base_uri": "https://localhost:8080/"
        },
        "id": "Gff4NppVAk7i",
        "outputId": "3b431b96-d8e6-4c33-80a1-b5a1494df6a7"
      },
      "execution_count": null,
      "outputs": [
        {
          "output_type": "stream",
          "name": "stdout",
          "text": [
            "(0, 0) 1\n",
            "(0, 1) 2\n",
            "(0, 2) 3\n",
            "(0, 3) 4\n",
            "(1, 0) 5\n",
            "(1, 1) 6\n",
            "(1, 2) 7\n",
            "(1, 3) 8\n"
          ]
        }
      ]
    },
    {
      "cell_type": "markdown",
      "source": [
        "**Joining NumPy Arrays using concatinate function**"
      ],
      "metadata": {
        "id": "xrc4-tQY4gMq"
      }
    },
    {
      "cell_type": "code",
      "source": [
        "import numpy as np\n",
        "abc1 = np.array([1,2,3,4,5])\n",
        "abc2 = np.array([3,4,5,6,7])\n",
        "newabc = np.concatenate((abc1,abc2))\n",
        "print(newabc)\n"
      ],
      "metadata": {
        "id": "cna-d60PMykB",
        "colab": {
          "base_uri": "https://localhost:8080/"
        },
        "outputId": "2c73b255-2b9d-4b11-bbe8-ad149dce8564"
      },
      "execution_count": null,
      "outputs": [
        {
          "output_type": "stream",
          "name": "stdout",
          "text": [
            "[1 2 3 4 5 3 4 5 6 7]\n"
          ]
        }
      ]
    },
    {
      "cell_type": "markdown",
      "source": [
        "\n",
        "**Joining Arrays Using Stack Functions**"
      ],
      "metadata": {
        "id": "YgiJmJ0j4TWg"
      }
    },
    {
      "cell_type": "code",
      "source": [
        "import numpy as np\n",
        "abc1 = np.array([1,2,3,4,5])\n",
        "abc2 = np.array([3,4,5,6,7])\n",
        "newabc = np.stack((abc1,abc2),axis = 1)\n",
        "print(newabc)"
      ],
      "metadata": {
        "colab": {
          "base_uri": "https://localhost:8080/"
        },
        "id": "q3Mirmde2nTJ",
        "outputId": "f630313e-4d9d-48f1-a591-06f2f37982dc"
      },
      "execution_count": null,
      "outputs": [
        {
          "output_type": "stream",
          "name": "stdout",
          "text": [
            "[[1 3]\n",
            " [2 4]\n",
            " [3 5]\n",
            " [4 6]\n",
            " [5 7]]\n"
          ]
        }
      ]
    },
    {
      "cell_type": "markdown",
      "source": [
        "###**hstack**\n",
        "####hstack is used for joining stack horizontally"
      ],
      "metadata": {
        "id": "mMQ8Xq9g46Cv"
      }
    },
    {
      "cell_type": "code",
      "source": [
        "import numpy as np\n",
        "abc1 = np.array([1,2,3,4,5])\n",
        "abc2 = np.array([3,4,5,6,7])\n",
        "newabc = np.hstack((abc1,abc2))\n",
        "print(newabc)"
      ],
      "metadata": {
        "colab": {
          "base_uri": "https://localhost:8080/"
        },
        "id": "hoglTHqX4vpb",
        "outputId": "8d87a053-39af-4b34-f64d-fb090bea5227"
      },
      "execution_count": null,
      "outputs": [
        {
          "output_type": "stream",
          "name": "stdout",
          "text": [
            "[1 2 3 4 5 3 4 5 6 7]\n"
          ]
        }
      ]
    },
    {
      "cell_type": "markdown",
      "source": [
        "###**vstack**\n",
        "##### vstack is used for joining stack vertically"
      ],
      "metadata": {
        "id": "tpFC7mE15gxe"
      }
    },
    {
      "cell_type": "code",
      "source": [
        "import numpy as np\n",
        "abc1 = np.array([1,2,3,4,5])\n",
        "abc2 = np.array([3,4,5,6,7])\n",
        "newabc = np.vstack((abc1,abc2))\n",
        "print(newabc)\n"
      ],
      "metadata": {
        "colab": {
          "base_uri": "https://localhost:8080/"
        },
        "id": "Tc5XoiQk5f8W",
        "outputId": "b6269702-afdd-423f-b6d3-d35a95864f52"
      },
      "execution_count": null,
      "outputs": [
        {
          "output_type": "stream",
          "name": "stdout",
          "text": [
            "[[1 2 3 4 5]\n",
            " [3 4 5 6 7]]\n"
          ]
        }
      ]
    },
    {
      "cell_type": "markdown",
      "source": [
        "###**dstack**\n",
        "#####dstack is used for height, which is the same as depth."
      ],
      "metadata": {
        "id": "cbRowNVy6CqZ"
      }
    },
    {
      "cell_type": "code",
      "source": [
        "import numpy as np\n",
        "abc1 = np.array([1,2,3,4,5])\n",
        "abc2 = np.array([3,4,5,6,7])\n",
        "newabc = np.dstack((abc1,abc2))\n",
        "print(newabc)"
      ],
      "metadata": {
        "colab": {
          "base_uri": "https://localhost:8080/"
        },
        "id": "c9zG9zSo54tH",
        "outputId": "764fd518-9d01-488c-c204-f042518e53ff"
      },
      "execution_count": null,
      "outputs": [
        {
          "output_type": "stream",
          "name": "stdout",
          "text": [
            "[[[1 3]\n",
            "  [2 4]\n",
            "  [3 5]\n",
            "  [4 6]\n",
            "  [5 7]]]\n"
          ]
        }
      ]
    },
    {
      "cell_type": "markdown",
      "source": [
        "**NumPy Splitting Array**"
      ],
      "metadata": {
        "id": "xO8e_kvL7Vrz"
      }
    },
    {
      "cell_type": "code",
      "source": [
        "import numpy as np\n",
        "abc = np.array([1,2,3,4,5,6,7,8,9])\n",
        "newabc = np.array_split(abc,3)\n",
        "print(newabc)"
      ],
      "metadata": {
        "colab": {
          "base_uri": "https://localhost:8080/"
        },
        "id": "-y4Mh-X26djP",
        "outputId": "39338168-af25-412b-a721-fefd1f33b106"
      },
      "execution_count": null,
      "outputs": [
        {
          "output_type": "stream",
          "name": "stdout",
          "text": [
            "[array([1, 2, 3]), array([4, 5, 6]), array([7, 8, 9])]\n"
          ]
        }
      ]
    },
    {
      "cell_type": "markdown",
      "source": [
        "**If the array has less elements than required, it will adjust from the end accordingly.**"
      ],
      "metadata": {
        "id": "QBOoGeel8dUd"
      }
    },
    {
      "cell_type": "code",
      "source": [
        "import numpy as np\n",
        "abc = np.array([1,2,3,4,5,6,7,8,9])\n",
        "newabc = np.array_split(abc,5)\n",
        "print(newabc)"
      ],
      "metadata": {
        "colab": {
          "base_uri": "https://localhost:8080/"
        },
        "id": "gYSuY4OX8cT9",
        "outputId": "8b322263-0093-4483-9658-43f36b3b8698"
      },
      "execution_count": null,
      "outputs": [
        {
          "output_type": "stream",
          "name": "stdout",
          "text": [
            "[array([1, 2]), array([3, 4]), array([5, 6]), array([7, 8]), array([9])]\n"
          ]
        }
      ]
    },
    {
      "cell_type": "markdown",
      "source": [
        "**Split Into Arrays**"
      ],
      "metadata": {
        "id": "MaxE7TY49ZkU"
      }
    },
    {
      "cell_type": "code",
      "source": [
        "import numpy as np\n",
        "abc = np.array([1, 2, 3, 4, 5, 6])\n",
        "newabc = np.array_split(abc, 3)\n",
        "print(newabc[0])\n",
        "print(newabc[1])\n",
        "print(newabc[2])"
      ],
      "metadata": {
        "colab": {
          "base_uri": "https://localhost:8080/"
        },
        "id": "3z3LG2Xu9YNN",
        "outputId": "a2074df5-8451-4ae5-fe58-91cf65f93d28"
      },
      "execution_count": null,
      "outputs": [
        {
          "output_type": "stream",
          "name": "stdout",
          "text": [
            "[1 2]\n",
            "[3 4]\n",
            "[5 6]\n"
          ]
        }
      ]
    },
    {
      "cell_type": "code",
      "source": [
        "import numpy as np\n",
        "abc = np.array([[1,2],[3,4],[4,5],[5,6],[2,3]])\n",
        "newabc = np.array_split(abc, 3)\n",
        "print(newabc)"
      ],
      "metadata": {
        "colab": {
          "base_uri": "https://localhost:8080/"
        },
        "id": "HzekE6YP9wS8",
        "outputId": "50ad32a6-8017-4e8f-b123-82462e9380c2"
      },
      "execution_count": null,
      "outputs": [
        {
          "output_type": "stream",
          "name": "stdout",
          "text": [
            "[array([[1, 2],\n",
            "       [3, 4]]), array([[4, 5],\n",
            "       [5, 6]]), array([[2, 3]])]\n"
          ]
        }
      ]
    },
    {
      "cell_type": "code",
      "source": [
        "import numpy as np\n",
        "abc = np.array([[1, 2, 3], [4, 5, 6], [7, 8, 9], [10, 11, 12], [13, 14, 15], [16, 17, 18]])\n",
        "newabc = np.array_split(abc, 3)\n",
        "print(newabc)"
      ],
      "metadata": {
        "colab": {
          "base_uri": "https://localhost:8080/"
        },
        "id": "sZyIu1K2_q3L",
        "outputId": "f427ff7a-91ab-4296-b037-80c3181d1ebf"
      },
      "execution_count": null,
      "outputs": [
        {
          "output_type": "stream",
          "name": "stdout",
          "text": [
            "[array([[1, 2, 3],\n",
            "       [4, 5, 6]]), array([[ 7,  8,  9],\n",
            "       [10, 11, 12]]), array([[13, 14, 15],\n",
            "       [16, 17, 18]])]\n"
          ]
        }
      ]
    },
    {
      "cell_type": "markdown",
      "source": [
        "**use of axis**"
      ],
      "metadata": {
        "id": "ba9KC_FjT9r8"
      }
    },
    {
      "cell_type": "code",
      "source": [
        "import numpy as np\n",
        "abc = np.array([[1, 2, 3], [4, 5, 6], [7, 8, 9], [10, 11, 12], [13, 14, 15], [16, 17, 18]])\n",
        "newabc = np.split(abc, 3, axis=1)\n",
        "print(newabc)"
      ],
      "metadata": {
        "id": "83QnDY59zMYU",
        "colab": {
          "base_uri": "https://localhost:8080/"
        },
        "outputId": "fa28f928-c5b8-4b54-9600-e08cddf2d662"
      },
      "execution_count": null,
      "outputs": [
        {
          "output_type": "stream",
          "name": "stdout",
          "text": [
            "[array([[ 1],\n",
            "       [ 4],\n",
            "       [ 7],\n",
            "       [10],\n",
            "       [13],\n",
            "       [16]]), array([[ 2],\n",
            "       [ 5],\n",
            "       [ 8],\n",
            "       [11],\n",
            "       [14],\n",
            "       [17]]), array([[ 3],\n",
            "       [ 6],\n",
            "       [ 9],\n",
            "       [12],\n",
            "       [15],\n",
            "       [18]])]\n"
          ]
        }
      ]
    },
    {
      "cell_type": "markdown",
      "source": [
        "**hsplit**"
      ],
      "metadata": {
        "id": "aEtwaQ0hTzf7"
      }
    },
    {
      "cell_type": "code",
      "source": [
        "import numpy as np\n",
        "abc = np.array([[1, 2, 3], [4, 5, 6], [7, 8, 9], [10, 11, 12], [13, 14, 15], [16, 17, 18]])\n",
        "newabc = np.hsplit(abc, 3)\n",
        "print(newabc)"
      ],
      "metadata": {
        "colab": {
          "base_uri": "https://localhost:8080/"
        },
        "id": "vJDGMNRlTwP8",
        "outputId": "4843a60c-9e40-41c2-f79f-7efdb3bf7026"
      },
      "execution_count": null,
      "outputs": [
        {
          "output_type": "stream",
          "name": "stdout",
          "text": [
            "[array([[ 1],\n",
            "       [ 4],\n",
            "       [ 7],\n",
            "       [10],\n",
            "       [13],\n",
            "       [16]]), array([[ 2],\n",
            "       [ 5],\n",
            "       [ 8],\n",
            "       [11],\n",
            "       [14],\n",
            "       [17]]), array([[ 3],\n",
            "       [ 6],\n",
            "       [ 9],\n",
            "       [12],\n",
            "       [15],\n",
            "       [18]])]\n"
          ]
        }
      ]
    },
    {
      "cell_type": "markdown",
      "source": [
        "**vsplit**"
      ],
      "metadata": {
        "id": "71EZ5QV9UmEa"
      }
    },
    {
      "cell_type": "code",
      "source": [
        "import numpy as np\n",
        "abc = np.array([[1, 2, 3], [4, 5, 6], [7, 8, 9], [10, 11, 12], [13, 14, 15], [16, 17, 18]])\n",
        "newabc = np.vsplit(abc, 3)\n",
        "print(newabc)"
      ],
      "metadata": {
        "colab": {
          "base_uri": "https://localhost:8080/"
        },
        "id": "pRUzdcfqUkvF",
        "outputId": "2397aad9-7d86-45de-dde4-74bda0e1c04c"
      },
      "execution_count": null,
      "outputs": [
        {
          "output_type": "stream",
          "name": "stdout",
          "text": [
            "[array([[1, 2, 3],\n",
            "       [4, 5, 6]]), array([[ 7,  8,  9],\n",
            "       [10, 11, 12]]), array([[13, 14, 15],\n",
            "       [16, 17, 18]])]\n"
          ]
        }
      ]
    },
    {
      "cell_type": "markdown",
      "source": [
        "**dsplit**"
      ],
      "metadata": {
        "id": "Qp2GPUQlVJvB"
      }
    },
    {
      "cell_type": "code",
      "source": [
        "import numpy as np\n",
        "abc = np.array([[1, 2, 3], [4, 5, 6], [7, 8, 9], [10, 11, 12], [13, 14, 15], [16, 17, 18]])\n",
        "newabc = np.hsplit(abc, 3)\n",
        "print(abc)"
      ],
      "metadata": {
        "colab": {
          "base_uri": "https://localhost:8080/"
        },
        "id": "DLMCoNPxVBhT",
        "outputId": "0c88579c-b712-4b9c-d6b4-f822295197c4"
      },
      "execution_count": null,
      "outputs": [
        {
          "output_type": "stream",
          "name": "stdout",
          "text": [
            "[[ 1  2  3]\n",
            " [ 4  5  6]\n",
            " [ 7  8  9]\n",
            " [10 11 12]\n",
            " [13 14 15]\n",
            " [16 17 18]]\n"
          ]
        }
      ]
    },
    {
      "cell_type": "markdown",
      "source": [
        "###**Searching Arrays**\n",
        "####Find the indexes where the value is 3:"
      ],
      "metadata": {
        "id": "gRa3QVejV2Qb"
      }
    },
    {
      "cell_type": "code",
      "source": [
        "import numpy as np\n",
        "abc = np.array ([1,2,3,4,5,6,7,3,5,3])\n",
        "newabc = np.where(abc==3)\n",
        "print(newabc)"
      ],
      "metadata": {
        "colab": {
          "base_uri": "https://localhost:8080/"
        },
        "id": "-v3fpy-nVXke",
        "outputId": "37dbb48a-e2c4-4903-ab11-1c1cbf41a569"
      },
      "execution_count": null,
      "outputs": [
        {
          "output_type": "stream",
          "name": "stdout",
          "text": [
            "(array([2, 7, 9]),)\n"
          ]
        }
      ]
    },
    {
      "cell_type": "markdown",
      "source": [
        "####Find the indexes where the values are even:"
      ],
      "metadata": {
        "id": "l3_C3O1wfYe4"
      }
    },
    {
      "cell_type": "code",
      "source": [
        "import numpy as np\n",
        "abc=np.array([1,2,3,4,5,6,7,8])\n",
        "newabc = np.where(abc%2==0)\n",
        "print(newabc)"
      ],
      "metadata": {
        "colab": {
          "base_uri": "https://localhost:8080/"
        },
        "id": "EPkUaCSZW0U5",
        "outputId": "6942a865-7607-4e31-ad5c-c40fd87b4557"
      },
      "execution_count": null,
      "outputs": [
        {
          "output_type": "stream",
          "name": "stdout",
          "text": [
            "(array([1, 3, 5, 7]),)\n"
          ]
        }
      ]
    },
    {
      "cell_type": "markdown",
      "source": [
        "####Find the indexes where the values are odd:"
      ],
      "metadata": {
        "id": "gKst91_jftNi"
      }
    },
    {
      "cell_type": "code",
      "source": [
        "import numpy as np\n",
        "abc=np.array([1,2,3,4,5,6,7,8])\n",
        "newabc = np.where(abc%2==1)\n",
        "print(newabc)"
      ],
      "metadata": {
        "colab": {
          "base_uri": "https://localhost:8080/"
        },
        "id": "9qrsMUJoXsN9",
        "outputId": "9305de57-7619-48d3-befb-9aca2ea3012e"
      },
      "execution_count": null,
      "outputs": [
        {
          "output_type": "stream",
          "name": "stdout",
          "text": [
            "(array([0, 2, 4, 6]),)\n"
          ]
        }
      ]
    },
    {
      "cell_type": "markdown",
      "source": [
        "###**Search Sorted**\n",
        "####Find the indexes where the value 7 should be inserted:"
      ],
      "metadata": {
        "id": "K8YuqAXLY7YQ"
      }
    },
    {
      "cell_type": "code",
      "source": [
        "import numpy as np\n",
        "abc = np.array([1,2,3,4,5,6,7,8])\n",
        "newabc = np.sort(abc)\n",
        "print(newabc)"
      ],
      "metadata": {
        "colab": {
          "base_uri": "https://localhost:8080/"
        },
        "id": "wmo3PiQlYeww",
        "outputId": "edcdd469-76ae-43e3-dae7-d12a7269efdd"
      },
      "execution_count": null,
      "outputs": [
        {
          "output_type": "stream",
          "name": "stdout",
          "text": [
            "[1 2 3 4 5 6 7 8]\n"
          ]
        }
      ]
    },
    {
      "cell_type": "markdown",
      "source": [
        "###**Search From the Right Side**"
      ],
      "metadata": {
        "id": "PQNLVdP4aXEH"
      }
    },
    {
      "cell_type": "code",
      "source": [
        "import numpy as np\n",
        "abc = np.array([6, 7, 8, 9])\n",
        "x = np.searchsorted(abc, 7, side='right')\n",
        "print(x)"
      ],
      "metadata": {
        "colab": {
          "base_uri": "https://localhost:8080/"
        },
        "id": "NdIyLP6faWXU",
        "outputId": "04983f46-0e77-43f0-bfc0-2c1932ceb4ec"
      },
      "execution_count": null,
      "outputs": [
        {
          "output_type": "stream",
          "name": "stdout",
          "text": [
            "2\n"
          ]
        }
      ]
    },
    {
      "cell_type": "markdown",
      "source": [
        "####Find the indexes where the values 2, 4, and 6 should be inserted:"
      ],
      "metadata": {
        "id": "sPBWt4oqgkWP"
      }
    },
    {
      "cell_type": "code",
      "source": [
        "import numpy as np\n",
        "abc = np.array([1, 3, 5, 7])\n",
        "x = np.searchsorted(abc, [2, 4, 6])\n",
        "print(x)"
      ],
      "metadata": {
        "colab": {
          "base_uri": "https://localhost:8080/"
        },
        "id": "D0Kyp-RYbO4n",
        "outputId": "f0bc81f3-d6be-4efb-8f37-93fd73d18e32"
      },
      "execution_count": null,
      "outputs": [
        {
          "output_type": "stream",
          "name": "stdout",
          "text": [
            "[1 2 3]\n"
          ]
        }
      ]
    },
    {
      "cell_type": "markdown",
      "source": [
        "###**NumPy Sorting Arrays**\n",
        "\n",
        "####Sorting means putting elements in an ordered sequence."
      ],
      "metadata": {
        "id": "jIO-FrC6dLqq"
      }
    },
    {
      "cell_type": "code",
      "source": [
        "import numpy as np\n",
        "abc = np.array([3, 2, 0, 1])\n",
        "print(np.sort(abc))"
      ],
      "metadata": {
        "colab": {
          "base_uri": "https://localhost:8080/"
        },
        "id": "xopXJ96ncGVI",
        "outputId": "ec7f34ac-c737-4bbf-e705-e672ea866228"
      },
      "execution_count": null,
      "outputs": [
        {
          "output_type": "stream",
          "name": "stdout",
          "text": [
            "[0 1 2 3]\n"
          ]
        }
      ]
    },
    {
      "cell_type": "code",
      "source": [
        "#Sort the array alphabetically:\n",
        "import numpy as np\n",
        "abc = np.array(['banana', 'cherry', 'apple'])\n",
        "print(np.sort(abc))"
      ],
      "metadata": {
        "colab": {
          "base_uri": "https://localhost:8080/"
        },
        "id": "Kvn7QM1dbO8y",
        "outputId": "70beaa58-1467-4cd7-85af-3294eafbea13"
      },
      "execution_count": null,
      "outputs": [
        {
          "output_type": "stream",
          "name": "stdout",
          "text": [
            "['apple' 'banana' 'cherry']\n"
          ]
        }
      ]
    },
    {
      "cell_type": "code",
      "source": [
        "#Sort a boolean array:\n",
        "import numpy as np\n",
        "abc = np.array([True, False, True])\n",
        "print(np.sort(abc))"
      ],
      "metadata": {
        "colab": {
          "base_uri": "https://localhost:8080/"
        },
        "id": "XlY4ks5DfigL",
        "outputId": "c72ce94b-8d21-4535-d4b7-9a6002168172"
      },
      "execution_count": null,
      "outputs": [
        {
          "output_type": "stream",
          "name": "stdout",
          "text": [
            "[False  True  True]\n"
          ]
        }
      ]
    },
    {
      "cell_type": "code",
      "source": [
        "#sort 2-D array\n",
        "import numpy as np\n",
        "abc = np.array([[3, 2, 4], [5, 0, 1]])\n",
        "print(np.sort(abc))"
      ],
      "metadata": {
        "colab": {
          "base_uri": "https://localhost:8080/"
        },
        "id": "u3xyoiMfgj-v",
        "outputId": "3a473f74-0bc4-430a-c102-183d9423a55b"
      },
      "execution_count": null,
      "outputs": [
        {
          "output_type": "stream",
          "name": "stdout",
          "text": [
            "[[2 3 4]\n",
            " [0 1 5]]\n"
          ]
        }
      ]
    },
    {
      "cell_type": "markdown",
      "source": [
        "###**NumPy Filter Array**\n",
        "#####Create an array from the elements on index 0 and 2:"
      ],
      "metadata": {
        "id": "ZystQNgmiELs"
      }
    },
    {
      "cell_type": "code",
      "source": [
        "import numpy as np\n",
        "abc = np.array([41, 42, 43, 44])\n",
        "newabc = abc[[True, False, True, False]]\n",
        "print(newabc)"
      ],
      "metadata": {
        "colab": {
          "base_uri": "https://localhost:8080/"
        },
        "id": "kdJPcTrHiHIP",
        "outputId": "58b150ae-dfc7-49da-e392-7eb0e2d26cce"
      },
      "execution_count": null,
      "outputs": [
        {
          "output_type": "stream",
          "name": "stdout",
          "text": [
            "[41 43]\n"
          ]
        }
      ]
    },
    {
      "cell_type": "markdown",
      "source": [
        "####Create a filter array that will return only values higher than 42:"
      ],
      "metadata": {
        "id": "NEgyKnu0hjar"
      }
    },
    {
      "cell_type": "code",
      "source": [
        "import numpy as np\n",
        "abc = np.array([41, 42, 43, 44])\n",
        "filter_abc= []# Create an empty list\n",
        "for element in abc:\n",
        "  # if the element is higher than 42, set the value to True, otherwise False:\n",
        "  if element > 42:\n",
        "    filter_abc.append(True)\n",
        "  else:\n",
        "    filter_abc.append(False)\n",
        "newabc = abc[filter_abc]\n",
        "print(filter_abc)\n",
        "print(newabc)"
      ],
      "metadata": {
        "colab": {
          "base_uri": "https://localhost:8080/"
        },
        "id": "hITBmclVi_6w",
        "outputId": "d6214b1b-721d-4d96-fa80-974f75cb32c4"
      },
      "execution_count": null,
      "outputs": [
        {
          "output_type": "stream",
          "name": "stdout",
          "text": [
            "[False, False, True, True]\n",
            "[43 44]\n"
          ]
        }
      ]
    },
    {
      "cell_type": "markdown",
      "source": [
        "####Create a filter array that will return only even elements from the original array:"
      ],
      "metadata": {
        "id": "17zvmiIxiCqF"
      }
    },
    {
      "cell_type": "code",
      "source": [
        "import pandas as np\n",
        "abc= np.array([41, 42, 43, 44])\n",
        "filter_abc= []# Create an empty list\n",
        "for element in abc:\n",
        "  # if the element is higher than 42, set the value to True, otherwise False:\n",
        "  if abc%2 == 0 :\n",
        "    filter_abc.append(True)\n",
        "  else:\n",
        "    filter_abc.append(False)\n",
        "newabc = abc[filter_abc]\n",
        "print(filter_abc)\n",
        "print(newabc)"
      ],
      "metadata": {
        "colab": {
          "base_uri": "https://localhost:8080/"
        },
        "id": "0QULwGCnkjAF",
        "outputId": "c8c927c9-21a6-4f97-8980-4109ad943d95"
      },
      "execution_count": null,
      "outputs": [
        {
          "output_type": "stream",
          "name": "stdout",
          "text": [
            "[True, True, True, True]\n",
            "<IntegerArray>\n",
            "[41, 42, 43, 44]\n",
            "Length: 4, dtype: Int64\n"
          ]
        }
      ]
    },
    {
      "cell_type": "markdown",
      "source": [
        "**Creating Filter Directly From Array**"
      ],
      "metadata": {
        "id": "W2HcFTTDlQLL"
      }
    },
    {
      "cell_type": "code",
      "source": [
        "import numpy as np\n",
        "abc = np.array([41, 42, 43, 44])\n",
        "filter_abc = abc > 42\n",
        "newabc = abc[filter_abc]\n",
        "print(filter_abc)\n",
        "print(newabc)"
      ],
      "metadata": {
        "colab": {
          "base_uri": "https://localhost:8080/"
        },
        "id": "rmaGV_rFkwH_",
        "outputId": "d8d6a918-0af8-4eb5-b87e-286802c0cf2d"
      },
      "execution_count": null,
      "outputs": [
        {
          "output_type": "stream",
          "name": "stdout",
          "text": [
            "[False False  True  True]\n",
            "[43 44]\n"
          ]
        }
      ]
    },
    {
      "cell_type": "markdown",
      "source": [
        "**Create a filter array that will return only even elements from the original array:**"
      ],
      "metadata": {
        "id": "47l5o09qlvRK"
      }
    },
    {
      "cell_type": "code",
      "source": [
        "import numpy as np\n",
        "abc = np.array([1, 2, 3, 4, 5, 6, 7])\n",
        "filter_abc = abc % 2 == 0\n",
        "newabc = abc[filter_abc]\n",
        "print(filter_abc)\n",
        "print(newabc)"
      ],
      "metadata": {
        "colab": {
          "base_uri": "https://localhost:8080/"
        },
        "id": "DWVzFeoFloXG",
        "outputId": "2a8862b5-f7a6-481a-afb3-f1884bed688e"
      },
      "execution_count": null,
      "outputs": [
        {
          "output_type": "stream",
          "name": "stdout",
          "text": [
            "[False  True False  True False  True False]\n",
            "[2 4 6]\n"
          ]
        }
      ]
    }
  ]
}