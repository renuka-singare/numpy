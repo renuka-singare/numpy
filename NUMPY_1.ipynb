{
  "nbformat": 4,
  "nbformat_minor": 0,
  "metadata": {
    "colab": {
      "name": "NUMPY 1",
      "provenance": [],
      "collapsed_sections": [],
      "authorship_tag": "ABX9TyMQaoS4pNqeiRIwZ6qUCKQy",
      "include_colab_link": true
    },
    "kernelspec": {
      "name": "python3",
      "display_name": "Python 3"
    },
    "language_info": {
      "name": "python"
    }
  },
  "cells": [
    {
      "cell_type": "markdown",
      "metadata": {
        "id": "view-in-github",
        "colab_type": "text"
      },
      "source": [
        "<a href=\"https://colab.research.google.com/github/renuka-singare/numpy/blob/main/NUMPY_1.ipynb\" target=\"_parent\"><img src=\"https://colab.research.google.com/assets/colab-badge.svg\" alt=\"Open In Colab\"/></a>"
      ]
    },
    {
      "cell_type": "markdown",
      "source": [
        "<h4><b>NumPy Introduction</b></h4><br>\n",
        "<h3><b>what is numpy?</b></h3>\n",
        "NumPy is a Python library used for working with arrays.\n",
        "\n",
        "It also has functions for working in domain of linear algebra, fourier transform, and matrices.\n",
        "\n",
        "NumPy was created in 2005 by Travis Oliphant. It is an open source project and you can use it freely.\n",
        "\n",
        "NumPy stands for Numerical Python.\n"
      ],
      "metadata": {
        "id": "Mtmjr-jdXZoX"
      }
    },
    {
      "cell_type": "code",
      "source": [
        "from google.colab import drive\n",
        "drive.mount('/content/drive')"
      ],
      "metadata": {
        "colab": {
          "base_uri": "https://localhost:8080/"
        },
        "id": "uDUf4bpUPeYs",
        "outputId": "d5b491a6-a605-4584-d985-0dbf033e0091"
      },
      "execution_count": 3,
      "outputs": [
        {
          "output_type": "stream",
          "name": "stdout",
          "text": [
            "Mounted at /content/drive\n"
          ]
        }
      ]
    },
    {
      "cell_type": "markdown",
      "source": [
        "**<h3>why we use numpy?</h3>**\n",
        "<br>\n",
        "In Python we have lists that serve the purpose of arrays, but they are slow to process.NumPy aims to provide an array object that is up to 50x faster than traditional Python lists.\n",
        "\n",
        "The array object in NumPy is called ndarray, it provides a lot of supporting functions that make working with ndarray very easy.\n",
        "\n",
        "Arrays are very frequently used in data science, where speed and resources are very important.\n",
        "\n"
      ],
      "metadata": {
        "id": "6nLG8xXiY4IC"
      }
    },
    {
      "cell_type": "markdown",
      "source": [
        "<h3>Import NumPy</h3>"
      ],
      "metadata": {
        "id": "tQW8yvalahux"
      }
    },
    {
      "cell_type": "code",
      "source": [
        "import numpy"
      ],
      "metadata": {
        "id": "DxMJhC-nj45T"
      },
      "execution_count": null,
      "outputs": []
    },
    {
      "cell_type": "markdown",
      "source": [
        "<h3>creating numpy array</h3>"
      ],
      "metadata": {
        "id": "YyP47mfxk6Mh"
      }
    },
    {
      "cell_type": "code",
      "execution_count": null,
      "metadata": {
        "colab": {
          "base_uri": "https://localhost:8080/"
        },
        "id": "_NJ2HnfRliYA",
        "outputId": "c359c9a9-9f40-41f3-bf56-f2aebfcd59f7"
      },
      "outputs": [
        {
          "output_type": "stream",
          "name": "stdout",
          "text": [
            "[array([1, 2, 3, 4, 5])]\n",
            "<class 'numpy.ndarray'>\n"
          ]
        }
      ],
      "source": [
        "import numpy as np\n",
        "abc = np.array([1,2,3,4,5])\n",
        "print([abc])\n",
        "print(type(abc)) "
      ]
    },
    {
      "cell_type": "markdown",
      "source": [
        "<h3>cheak version of numpy</h3>\n",
        "\n"
      ],
      "metadata": {
        "id": "XCgYu1n2lHFb"
      }
    },
    {
      "cell_type": "code",
      "source": [
        "import numpy as np\n",
        "print(np.__version__)"
      ],
      "metadata": {
        "colab": {
          "base_uri": "https://localhost:8080/"
        },
        "id": "r924pvVinN4j",
        "outputId": "db9cee02-d771-43d6-a431-8e0ec69d3ce6"
      },
      "execution_count": null,
      "outputs": [
        {
          "output_type": "stream",
          "name": "stdout",
          "text": [
            "1.21.5\n"
          ]
        }
      ]
    },
    {
      "cell_type": "code",
      "source": [
        "import numpy as np\n",
        "abc = np.array((1,2,3,4,5,6,7))\n",
        "print(abc)"
      ],
      "metadata": {
        "colab": {
          "base_uri": "https://localhost:8080/"
        },
        "id": "4luNEZChnuL0",
        "outputId": "476521be-8829-40d0-b912-ed8a6052cb4d"
      },
      "execution_count": null,
      "outputs": [
        {
          "output_type": "stream",
          "name": "stdout",
          "text": [
            "[1 2 3 4 5 6 7]\n"
          ]
        }
      ]
    },
    {
      "cell_type": "markdown",
      "source": [
        "<h3>here i have created 0 D array</h3>"
      ],
      "metadata": {
        "id": "8T9BY4gImNRB"
      }
    },
    {
      "cell_type": "code",
      "source": [
        "import numpy as np\n",
        "abc = np.array([34])\n",
        "print(abc)"
      ],
      "metadata": {
        "colab": {
          "base_uri": "https://localhost:8080/"
        },
        "id": "09VSTPjeoSec",
        "outputId": "d5db82f2-bfed-4d1f-f080-759dd344fc22"
      },
      "execution_count": null,
      "outputs": [
        {
          "output_type": "stream",
          "name": "stdout",
          "text": [
            "[34]\n"
          ]
        }
      ]
    },
    {
      "cell_type": "markdown",
      "source": [
        "<h3>This one is 1 D array</h3>"
      ],
      "metadata": {
        "id": "qOnflMZqm3Y3"
      }
    },
    {
      "cell_type": "code",
      "source": [
        "#1-d array\n",
        "import numpy as np\n",
        "abc = np.array([1, 2, 3, 4, 5])\n",
        "print(abc)"
      ],
      "metadata": {
        "colab": {
          "base_uri": "https://localhost:8080/"
        },
        "id": "Ot6MgTAMo1w7",
        "outputId": "aa5cd825-3c23-4f4d-cbcc-be7258b64dff"
      },
      "execution_count": null,
      "outputs": [
        {
          "output_type": "stream",
          "name": "stdout",
          "text": [
            "[1 2 3 4 5]\n"
          ]
        }
      ]
    },
    {
      "cell_type": "markdown",
      "source": [
        "<h3>This one is 2 D array</h3>"
      ],
      "metadata": {
        "id": "E4BThmLonE5C"
      }
    },
    {
      "cell_type": "code",
      "source": [
        "import numpy as np\n",
        "abc = np.array([[1,2],[3,4]])\n",
        "print(abc)"
      ],
      "metadata": {
        "colab": {
          "base_uri": "https://localhost:8080/"
        },
        "id": "FZ6F5HC_pOAD",
        "outputId": "126b93b8-5306-4ef3-d65c-a158178f4c67"
      },
      "execution_count": null,
      "outputs": [
        {
          "output_type": "stream",
          "name": "stdout",
          "text": [
            "[[1 2]\n",
            " [3 4]]\n"
          ]
        }
      ]
    },
    {
      "cell_type": "markdown",
      "source": [
        "<h3>This one is 3 D array</h3>"
      ],
      "metadata": {
        "id": "t_eSCpvXnnOZ"
      }
    },
    {
      "cell_type": "code",
      "source": [
        "#3-d array\n",
        "import numpy as np\n",
        "abc = np.array([[[1,2],[3,4]],[[5,6],[7,8]]])\n",
        "print(abc)"
      ],
      "metadata": {
        "colab": {
          "base_uri": "https://localhost:8080/"
        },
        "id": "m3b08jhnqTY_",
        "outputId": "e6fc7f91-722b-49f2-ca9f-ee81086539d2"
      },
      "execution_count": null,
      "outputs": [
        {
          "output_type": "stream",
          "name": "stdout",
          "text": [
            "[[[1 2]\n",
            "  [3 4]]\n",
            "\n",
            " [[5 6]\n",
            "  [7 8]]]\n"
          ]
        }
      ]
    },
    {
      "cell_type": "markdown",
      "source": [
        "<h3>here i have created all types of array simuntaniously</h3>"
      ],
      "metadata": {
        "id": "3xrxGQa9nxno"
      }
    },
    {
      "cell_type": "code",
      "source": [
        "import numpy as np\n",
        "abc1 = np.array(34)\n",
        "abc2 = np.array([1,2,3,4,5])\n",
        "abc3 = np.array([[1,2],[3,4]])\n",
        "abc4= np.array([[[1,2],[3,4]],[[5,6],[7,8]]])\n",
        "print(abc1)\n",
        "print(abc2)\n",
        "print(abc3)\n",
        "print(abc4)"
      ],
      "metadata": {
        "colab": {
          "base_uri": "https://localhost:8080/"
        },
        "id": "YbjB4rwsq9DV",
        "outputId": "4c3cb0b2-09d1-44bc-83f8-aa6f53a90f91"
      },
      "execution_count": null,
      "outputs": [
        {
          "output_type": "stream",
          "name": "stdout",
          "text": [
            "34\n",
            "[1 2 3 4 5]\n",
            "[[1 2]\n",
            " [3 4]]\n",
            "[[[1 2]\n",
            "  [3 4]]\n",
            "\n",
            " [[5 6]\n",
            "  [7 8]]]\n"
          ]
        }
      ]
    },
    {
      "cell_type": "markdown",
      "source": [
        "<h3>This one is higher dimention of array with the help of it we create all number of array as you want but the limit is 32 we can't be create greater than 32 dimention of array</h3>"
      ],
      "metadata": {
        "id": "rjBninsHoJuv"
      }
    },
    {
      "cell_type": "code",
      "source": [
        "import numpy as np\n",
        "abc = np.array([1,2,3,4,5,6], ndmin=6)\n",
        "print(abc)\n",
        "print('number of dimensions',abc.ndim) "
      ],
      "metadata": {
        "colab": {
          "base_uri": "https://localhost:8080/"
        },
        "id": "O9BptkxescCU",
        "outputId": "644f8dac-0d1b-445e-f341-3bcea225a3f3"
      },
      "execution_count": null,
      "outputs": [
        {
          "output_type": "stream",
          "name": "stdout",
          "text": [
            "[[[[[[1 2 3 4 5 6]]]]]]\n",
            "number of dimensions 6\n"
          ]
        }
      ]
    },
    {
      "cell_type": "markdown",
      "source": [
        "<h2>Array indexing</h2>\n",
        "<h3>with help of array indexing we can access our element fastly</h3>"
      ],
      "metadata": {
        "id": "qEHjfK1Uqk5M"
      }
    },
    {
      "cell_type": "code",
      "source": [
        "import numpy as np\n",
        "abc = np.array([1,2,3,4,5])\n",
        "print(abc[3])"
      ],
      "metadata": {
        "colab": {
          "base_uri": "https://localhost:8080/"
        },
        "id": "E5wloaw4t1O0",
        "outputId": "4111ec93-2b9e-4dc3-cb42-a467fd4db9a5"
      },
      "execution_count": null,
      "outputs": [
        {
          "output_type": "stream",
          "name": "stdout",
          "text": [
            "4\n"
          ]
        }
      ]
    },
    {
      "cell_type": "code",
      "source": [
        "import numpy as np\n",
        "abc =  np.array([1,2,3,4,5,6])\n",
        "print(abc[3]+abc[4]) "
      ],
      "metadata": {
        "colab": {
          "base_uri": "https://localhost:8080/"
        },
        "id": "zDsqxW0PuM97",
        "outputId": "498dd599-e21f-4720-dd6e-596bfe93dcb9"
      },
      "execution_count": null,
      "outputs": [
        {
          "output_type": "stream",
          "name": "stdout",
          "text": [
            "9\n"
          ]
        }
      ]
    },
    {
      "cell_type": "markdown",
      "source": [
        "<h3>Array indexing fro 2d array</h3>\n"
      ],
      "metadata": {
        "id": "HrBXUD5UrdtO"
      }
    },
    {
      "cell_type": "code",
      "source": [
        "import numpy as np\n",
        "abc = np.array([[1,2,3,4,5], [6,7,8,9,10]])\n",
        "print('2nd element on 1st row: ', abc[0, 1])"
      ],
      "metadata": {
        "colab": {
          "base_uri": "https://localhost:8080/"
        },
        "id": "M-L-oTbzuwxz",
        "outputId": "811f80b3-8463-48ec-b7f6-dc0520cf42d3"
      },
      "execution_count": null,
      "outputs": [
        {
          "output_type": "stream",
          "name": "stdout",
          "text": [
            "2nd element on 1st row:  2\n"
          ]
        }
      ]
    },
    {
      "cell_type": "code",
      "source": [
        "import numpy as np\n",
        "abc = np.array([[1,2,3,4,5],[6,7,8,9,10]])\n",
        "print('5th element on 2nd row: ',abc[1,4])"
      ],
      "metadata": {
        "colab": {
          "base_uri": "https://localhost:8080/"
        },
        "id": "namWywQLvMpz",
        "outputId": "c464a90a-910c-4ff0-cabf-4b061c4299c6"
      },
      "execution_count": null,
      "outputs": [
        {
          "output_type": "stream",
          "name": "stdout",
          "text": [
            "5th element on 2nd row:  10\n"
          ]
        }
      ]
    },
    {
      "cell_type": "markdown",
      "source": [
        "<h3>Array indexing for 3D array</h3>"
      ],
      "metadata": {
        "id": "isXOmRZer3A0"
      }
    },
    {
      "cell_type": "code",
      "source": [
        "import numpy as np\n",
        "abc = np.array([[[1, 2, 3], [4, 5, 6]], [[7, 8, 9], [10, 11, 12]]])\n",
        "print(abc[0, 1, 2])"
      ],
      "metadata": {
        "colab": {
          "base_uri": "https://localhost:8080/"
        },
        "id": "VUSun87dwKNd",
        "outputId": "853ac0af-03ba-477b-cc57-121899ebb823"
      },
      "execution_count": null,
      "outputs": [
        {
          "output_type": "stream",
          "name": "stdout",
          "text": [
            "6\n"
          ]
        }
      ]
    },
    {
      "cell_type": "markdown",
      "source": [
        "<h3>Array indexing for 2D array in reverse direction</h3>"
      ],
      "metadata": {
        "id": "OJAsRuMmsNB-"
      }
    },
    {
      "cell_type": "code",
      "source": [
        "import numpy as np\n",
        "abc = np.array ([[1,2,3,4,5],[6,7,8,9,10]])\n",
        "print('last element from 2nd dim: ',abc[1,-1])"
      ],
      "metadata": {
        "colab": {
          "base_uri": "https://localhost:8080/"
        },
        "id": "Y8LV9DJgwgnr",
        "outputId": "e8639134-48ad-4439-cf2c-b6e1740db950"
      },
      "execution_count": null,
      "outputs": [
        {
          "output_type": "stream",
          "name": "stdout",
          "text": [
            "last element from 2nd dim:  10\n"
          ]
        }
      ]
    },
    {
      "cell_type": "markdown",
      "source": [
        "<h2>Numpy slicing</h2>\n",
        "<h3>Slicing in python means taking elements from one given index to another given index.\n",
        "We pass slice instead of index like this: [start:end].\n",
        "We can also define the step, like this: [start:end:step].\n",
        "If we don't pass start its considered 0\n",
        "If we don't pass end its considered length of array in that dimension\n",
        "If we don't pass step its considered 1</h3>\n"
      ],
      "metadata": {
        "id": "mYjmT3mauFBM"
      }
    },
    {
      "cell_type": "code",
      "source": [
        "import numpy as np\n",
        "abc = np. array([1,2,3,4,5,6,7,8])\n",
        "print(abc[2:4]) "
      ],
      "metadata": {
        "colab": {
          "base_uri": "https://localhost:8080/"
        },
        "id": "TG7clpoNxdrF",
        "outputId": "cf0f4c7e-5f53-416c-defc-edf3c1ce9f89"
      },
      "execution_count": null,
      "outputs": [
        {
          "output_type": "stream",
          "name": "stdout",
          "text": [
            "[3 4]\n"
          ]
        }
      ]
    },
    {
      "cell_type": "code",
      "source": [
        "import numpy as np\n",
        "abc = np. array([1,2,3,4,5,6,7,8])\n",
        "print(abc[ :5]) "
      ],
      "metadata": {
        "colab": {
          "base_uri": "https://localhost:8080/"
        },
        "id": "8EVJUBBkyfFy",
        "outputId": "c522eb6f-febf-4a33-919c-602d44c98ca1"
      },
      "execution_count": null,
      "outputs": [
        {
          "output_type": "stream",
          "name": "stdout",
          "text": [
            "[1 2 3 4 5]\n"
          ]
        }
      ]
    },
    {
      "cell_type": "code",
      "source": [
        "import numpy as np\n",
        "abc = np. array([1,2,3,4,5,6,7,8])\n",
        "print(abc[1:]) "
      ],
      "metadata": {
        "colab": {
          "base_uri": "https://localhost:8080/"
        },
        "id": "4GXQYYVqyjgL",
        "outputId": "7c33eb68-10ce-4669-d1fe-33829e019183"
      },
      "execution_count": null,
      "outputs": [
        {
          "output_type": "stream",
          "name": "stdout",
          "text": [
            "[2 3 4 5 6 7 8]\n"
          ]
        }
      ]
    },
    {
      "cell_type": "code",
      "source": [
        "import numpy as np\n",
        "abc = np. array([1,2,3,4,5,6,7,8])\n",
        "print(abc[-3:-1]) "
      ],
      "metadata": {
        "colab": {
          "base_uri": "https://localhost:8080/"
        },
        "id": "KfBh3ouiyr0s",
        "outputId": "e6c322b2-555f-4505-c09c-ee9d576e123f"
      },
      "execution_count": null,
      "outputs": [
        {
          "output_type": "stream",
          "name": "stdout",
          "text": [
            "[6 7]\n"
          ]
        }
      ]
    },
    {
      "cell_type": "code",
      "source": [
        "import numpy as np\n",
        "abc = np. array([1,2,3,4,5,6,7,8])\n",
        "print(abc[1:2:4]) "
      ],
      "metadata": {
        "colab": {
          "base_uri": "https://localhost:8080/"
        },
        "id": "Z_O6qgJmy9Ao",
        "outputId": "250f122f-2090-47ef-fde1-60bc84895390"
      },
      "execution_count": null,
      "outputs": [
        {
          "output_type": "stream",
          "name": "stdout",
          "text": [
            "[2]\n"
          ]
        }
      ]
    },
    {
      "cell_type": "code",
      "source": [
        "import numpy as np\n",
        "abc = np. array([1,2,3,4,5,6,7,8])\n",
        "print(abc[ : :4]) "
      ],
      "metadata": {
        "colab": {
          "base_uri": "https://localhost:8080/"
        },
        "id": "x9vvFcH8zOHD",
        "outputId": "18679896-bd72-4c14-b843-6915b4018393"
      },
      "execution_count": null,
      "outputs": [
        {
          "output_type": "stream",
          "name": "stdout",
          "text": [
            "[1 5]\n"
          ]
        }
      ]
    },
    {
      "cell_type": "code",
      "source": [
        "import numpy as np\n",
        "abc = np.array([[1, 2, 3, 4, 5], [6, 7, 8, 9, 10]])\n",
        "print(abc[1, 1:4])"
      ],
      "metadata": {
        "colab": {
          "base_uri": "https://localhost:8080/"
        },
        "id": "w58irnGuzgfu",
        "outputId": "2e21571a-f6b2-4c17-9e77-514698b30e9d"
      },
      "execution_count": null,
      "outputs": [
        {
          "output_type": "stream",
          "name": "stdout",
          "text": [
            "[7 8 9]\n"
          ]
        }
      ]
    },
    {
      "cell_type": "markdown",
      "source": [
        "###slicing for 2D array: \n",
        "####From both elements, return index 2:"
      ],
      "metadata": {
        "id": "PLhLw81Fy7mV"
      }
    },
    {
      "cell_type": "code",
      "source": [
        "import numpy as np\n",
        "abc = np.array([[1, 2, 3, 4, 5], [6, 7, 8, 9, 10]])\n",
        "print(abc[0:2, 2])"
      ],
      "metadata": {
        "colab": {
          "base_uri": "https://localhost:8080/"
        },
        "id": "fQZt9uXvz4O1",
        "outputId": "178973c3-a3c2-4cf3-d7a8-47f85d4cf1dc"
      },
      "execution_count": null,
      "outputs": [
        {
          "output_type": "stream",
          "name": "stdout",
          "text": [
            "[3 8]\n"
          ]
        }
      ]
    },
    {
      "cell_type": "markdown",
      "source": [
        "####From both elements, slice index 1 to index 4 (not included), this will return a 2-D array"
      ],
      "metadata": {
        "id": "qjIj2nIozOcc"
      }
    },
    {
      "cell_type": "code",
      "source": [
        "import numpy as np\n",
        "abc = np.array([[1, 2, 3, 4, 5], [6, 7, 8, 9, 10]])\n",
        "print(abc[0:4, 1:4])"
      ],
      "metadata": {
        "colab": {
          "base_uri": "https://localhost:8080/"
        },
        "id": "hySlbXOv0Phc",
        "outputId": "a62bc0af-146b-4755-d4b8-185ef5d865cb"
      },
      "execution_count": null,
      "outputs": [
        {
          "output_type": "stream",
          "name": "stdout",
          "text": [
            "[[2 3 4]\n",
            " [7 8 9]]\n"
          ]
        }
      ]
    },
    {
      "cell_type": "markdown",
      "source": [
        "###Data types in python\n",
        "strings - used to represent text data, the text is given under quote marks. e.g. \"ABCD\"\n",
        "integer - used to represent integer numbers. e.g. -1, -2, -3\n",
        "float - used to represent real numbers. e.g. 1.2, 42.42\n",
        "boolean - used to represent True or False.\n",
        "complex - used to represent complex numbers. e.g. 1.0 + 2.0j, 1.5 + 2.5j\n"
      ],
      "metadata": {
        "id": "m5g03-qgzzjQ"
      }
    },
    {
      "cell_type": "code",
      "source": [
        "import numpy as np\n",
        "abc = np.array([1,2,3,4,5,6])\n",
        "print(abc.dtype) "
      ],
      "metadata": {
        "colab": {
          "base_uri": "https://localhost:8080/"
        },
        "id": "5gAeYmog1SWd",
        "outputId": "8fb032cb-5b28-4fdc-c049-a080abb2bdb1"
      },
      "execution_count": null,
      "outputs": [
        {
          "output_type": "stream",
          "name": "stdout",
          "text": [
            "int64\n"
          ]
        }
      ]
    },
    {
      "cell_type": "code",
      "source": [
        "import numpy as np\n",
        "abc = np.array(['apple','mango','banana','graps'])\n",
        "print(abc.dtype) "
      ],
      "metadata": {
        "colab": {
          "base_uri": "https://localhost:8080/"
        },
        "id": "Hi-Ztolu4Oed",
        "outputId": "76dd627b-b986-487f-e862-09246f3c0c75"
      },
      "execution_count": null,
      "outputs": [
        {
          "output_type": "stream",
          "name": "stdout",
          "text": [
            "<U6\n"
          ]
        }
      ]
    },
    {
      "cell_type": "markdown",
      "source": [
        "**For i, u, f, S and U we can define size as well.**"
      ],
      "metadata": {
        "id": "78_kRQIt55Bs"
      }
    },
    {
      "cell_type": "code",
      "source": [
        "import numpy as np\n",
        "arr = np.array([1, 2, 3, 4], dtype='S')\n",
        "print(arr)\n",
        "print(arr.dtype) \n"
      ],
      "metadata": {
        "colab": {
          "base_uri": "https://localhost:8080/"
        },
        "id": "Q4emO2jA4j_s",
        "outputId": "d019250f-801a-4d59-a9bc-32f4ce9a371b"
      },
      "execution_count": null,
      "outputs": [
        {
          "output_type": "stream",
          "name": "stdout",
          "text": [
            "[b'1' b'2' b'3' b'4']\n",
            "|S1\n"
          ]
        }
      ]
    },
    {
      "cell_type": "code",
      "source": [
        "import numpy as np\n",
        "abc = np.array([1, 2, 3, 4], dtype='S')\n",
        "print(abc)\n",
        "print(abc.dtype)"
      ],
      "metadata": {
        "id": "XSy3mxcD5xFX",
        "colab": {
          "base_uri": "https://localhost:8080/"
        },
        "outputId": "30a88bce-2899-4995-c22b-8a722473b3e2"
      },
      "execution_count": null,
      "outputs": [
        {
          "output_type": "stream",
          "name": "stdout",
          "text": [
            "[b'1' b'2' b'3' b'4']\n",
            "|S1\n"
          ]
        }
      ]
    },
    {
      "cell_type": "code",
      "source": [
        "import numpy as n\n",
        "abc = np.array([1,2,3,4,5], dtype='i4')\n",
        "print(abc)\n",
        "print(abc.dtype)\n"
      ],
      "metadata": {
        "colab": {
          "base_uri": "https://localhost:8080/"
        },
        "id": "4xmjOE0e6Dve",
        "outputId": "2572f5ee-fec2-4c34-f712-4afa873736cc"
      },
      "execution_count": null,
      "outputs": [
        {
          "output_type": "stream",
          "name": "stdout",
          "text": [
            "[1 2 3 4 5]\n",
            "int32\n"
          ]
        }
      ]
    },
    {
      "cell_type": "code",
      "source": [
        "import numpy as np\n",
        "abc = np.array(['a','2','3'], dtype='U')\n",
        "print(abc)\n",
        "print(abc.dtype)"
      ],
      "metadata": {
        "colab": {
          "base_uri": "https://localhost:8080/"
        },
        "id": "wC72yGAW6ibG",
        "outputId": "eecacb38-7952-4da9-8140-42bea0e098b6"
      },
      "execution_count": null,
      "outputs": [
        {
          "output_type": "stream",
          "name": "stdout",
          "text": [
            "['a' '2' '3']\n",
            "<U1\n"
          ]
        }
      ]
    },
    {
      "cell_type": "markdown",
      "source": [
        "###**Converting Data Type on Existing Arrays**\n",
        "####Change data type from float to integer by using 'i' as parameter value:"
      ],
      "metadata": {
        "id": "E7jb8OtR7Clc"
      }
    },
    {
      "cell_type": "code",
      "source": [
        "import numpy as np\n",
        "abc = np.array([1.2,2.4,3.4])\n",
        "newabc = abc.astype('i')\n",
        "print(newabc)\n",
        "print(newabc.dtype)"
      ],
      "metadata": {
        "id": "vFzQohpj7CEV",
        "colab": {
          "base_uri": "https://localhost:8080/"
        },
        "outputId": "208e7785-f427-4cbe-bb5b-a65ddae51cb3"
      },
      "execution_count": null,
      "outputs": [
        {
          "output_type": "stream",
          "name": "stdout",
          "text": [
            "[1 2 3]\n",
            "int32\n"
          ]
        }
      ]
    },
    {
      "cell_type": "markdown",
      "source": [
        "####Change data type from float to integer by using int as parameter value:"
      ],
      "metadata": {
        "id": "XSnTJj87n3X6"
      }
    },
    {
      "cell_type": "code",
      "source": [
        "import numpy as np\n",
        "abc = np.array([1.2,2.3,3.4])\n",
        "newabc = abc.astype('int')\n",
        "print(newabc)\n",
        "print(newabc.dtype)"
      ],
      "metadata": {
        "colab": {
          "base_uri": "https://localhost:8080/"
        },
        "id": "YsyxFVShGLpX",
        "outputId": "dfc20f9d-4e6b-4a90-8f88-a5f3b8a3a3dd"
      },
      "execution_count": null,
      "outputs": [
        {
          "output_type": "stream",
          "name": "stdout",
          "text": [
            "[1 2 3]\n",
            "int64\n"
          ]
        }
      ]
    },
    {
      "cell_type": "markdown",
      "source": [
        "####Change data type from integer to boolean:"
      ],
      "metadata": {
        "id": "MFwuCeRXo7gM"
      }
    },
    {
      "cell_type": "code",
      "source": [
        "import numpy as np\n",
        "abc = np.array([1,0,3])\n",
        "newabc = abc.astype(bool)\n",
        "print(newabc)\n",
        "print(newabc.dtype)"
      ],
      "metadata": {
        "colab": {
          "base_uri": "https://localhost:8080/"
        },
        "id": "u0gAQj9yHI5y",
        "outputId": "e8f41244-b219-4d64-efe9-f1bfd4b239cf"
      },
      "execution_count": null,
      "outputs": [
        {
          "output_type": "stream",
          "name": "stdout",
          "text": [
            "[ True False  True]\n",
            "bool\n"
          ]
        }
      ]
    },
    {
      "cell_type": "markdown",
      "source": [
        "##**The Difference Between Copy and View**\n",
        " #Make a copy, change the original array, and display both arrays:\n"
      ],
      "metadata": {
        "id": "SgAxDGWAJamf"
      }
    },
    {
      "cell_type": "code",
      "source": [
        "import numpy as np\n",
        "abc = np.array([1,2,3,4,5])\n",
        "X= abc.copy()\n",
        "abc[4] = 42\n",
        "print(abc)\n",
        "print(abc.dtype)\n",
        "\n"
      ],
      "metadata": {
        "colab": {
          "base_uri": "https://localhost:8080/"
        },
        "id": "TQQxtHG9JLNH",
        "outputId": "f06f0c2c-53b9-426a-a73e-1bb5468c2906"
      },
      "execution_count": null,
      "outputs": [
        {
          "output_type": "stream",
          "name": "stdout",
          "text": [
            "[ 1  2  3  4 42]\n",
            "int64\n"
          ]
        }
      ]
    },
    {
      "cell_type": "markdown",
      "source": [
        "###Make a view, change the original array, and display both arrays:"
      ],
      "metadata": {
        "id": "p537-V0tpb7h"
      }
    },
    {
      "cell_type": "code",
      "source": [
        "import numpy as np\n",
        "abc = np.array([1,2,3,4,5,6])\n",
        "x = abc.view()\n",
        "abc[3] = 56\n",
        "print(abc)\n",
        "print(abc.dtype)\n"
      ],
      "metadata": {
        "colab": {
          "base_uri": "https://localhost:8080/"
        },
        "id": "iV082HsGMLe3",
        "outputId": "806a8086-fdbb-4e5e-c274-65c3792ce6e8"
      },
      "execution_count": null,
      "outputs": [
        {
          "output_type": "stream",
          "name": "stdout",
          "text": [
            "[ 1  2  3 56  5  6]\n",
            "int64\n"
          ]
        }
      ]
    },
    {
      "cell_type": "markdown",
      "source": [
        "\n",
        "###**Check if Array Owns it's Data** \n",
        "####Print the value of the base attribute to check if an array owns it's data or not:"
      ],
      "metadata": {
        "id": "4gbpc5-tM1Wm"
      }
    },
    {
      "cell_type": "code",
      "source": [
        "import numpy as np\n",
        "abc = np.array([1,2,3,4,5])\n",
        "x = abc.copy()\n",
        "y = abc.view()\n",
        "print(x.base)\n",
        "print(y.base)"
      ],
      "metadata": {
        "colab": {
          "base_uri": "https://localhost:8080/"
        },
        "id": "9RGBmIKeMzte",
        "outputId": "b216050a-a373-4a17-9634-8c9f27ebf955"
      },
      "execution_count": null,
      "outputs": [
        {
          "output_type": "stream",
          "name": "stdout",
          "text": [
            "None\n",
            "[1 2 3 4 5]\n"
          ]
        }
      ]
    },
    {
      "cell_type": "code",
      "source": [
        ""
      ],
      "metadata": {
        "id": "DrPwontTadQX"
      },
      "execution_count": null,
      "outputs": []
    }
  ]
}